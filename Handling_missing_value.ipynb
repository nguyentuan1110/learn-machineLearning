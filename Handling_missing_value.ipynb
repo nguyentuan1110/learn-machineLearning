{
 "cells": [
  {
   "cell_type": "code",
   "execution_count": 2,
   "metadata": {},
   "outputs": [
    {
     "name": "stderr",
     "output_type": "stream",
     "text": [
      "c:\\users\\admin\\appdata\\local\\programs\\python\\python37\\lib\\site-packages\\sklearn\\ensemble\\weight_boosting.py:29: DeprecationWarning: numpy.core.umath_tests is an internal NumPy module and should not be imported. It will be removed in a future NumPy release.\n",
      "  from numpy.core.umath_tests import inner1d\n"
     ]
    }
   ],
   "source": [
    "import pandas as pd\n",
    "from sklearn.model_selection import train_test_split\n",
    "from sklearn.ensemble import RandomForestRegressor\n",
    "from sklearn.metrics import mean_absolute_error\n",
    "from sklearn.preprocessing import Imputer\n",
    "melb_data = pd.read_csv('datasets/melb_data.csv')"
   ]
  },
  {
   "cell_type": "code",
   "execution_count": 3,
   "metadata": {},
   "outputs": [],
   "source": [
    "melb_target = melb_data.Price\n",
    "melb_predictors = melb_data.drop(['Price'], axis = 1)\n",
    "melb_numeric_predictors = melb_predictors.select_dtypes(exclude = ['object'])\n",
    "\n",
    "train_X, val_X, train_y, val_y = train_test_split(melb_numeric_predictors, melb_target, train_size = 0.7, test_size = 0.3, random_state = 0)"
   ]
  },
  {
   "cell_type": "code",
   "execution_count": 4,
   "metadata": {},
   "outputs": [],
   "source": [
    "def score_measure(train_X, val_X, train_y, val_y):\n",
    "    model = RandomForestRegressor()\n",
    "    model.fit(train_X,train_y)\n",
    "    prediction = model.predict(val_X)\n",
    "    return mean_absolute_error(val_y,prediction)\n",
    "    "
   ]
  },
  {
   "cell_type": "markdown",
   "metadata": {},
   "source": [
    "**Get error value from drop missing value**"
   ]
  },
  {
   "cell_type": "code",
   "execution_count": 5,
   "metadata": {},
   "outputs": [
    {
     "name": "stdout",
     "output_type": "stream",
     "text": [
      "189976.76533300607\n"
     ]
    }
   ],
   "source": [
    "missing_col = [col for col in train_X.columns if train_X[col].isnull().any()]\n",
    "\n",
    "reduced_train_X = train_X.drop(missing_col, axis = 1)\n",
    "reduced_val_X = val_X.drop(missing_col, axis = 1)\n",
    "print(score_measure(reduced_train_X, reduced_val_X, train_y, val_y))"
   ]
  },
  {
   "cell_type": "markdown",
   "metadata": {},
   "source": [
    "**Get error value from imputation**"
   ]
  },
  {
   "cell_type": "code",
   "execution_count": 11,
   "metadata": {},
   "outputs": [
    {
     "name": "stdout",
     "output_type": "stream",
     "text": [
      "184220.58096056292\n"
     ]
    }
   ],
   "source": [
    "my_imputer = Imputer()\n",
    "train_X_with_imputer = my_imputer.fit_transform(train_X)\n",
    "val_X_with_imputer = my_imputer.fit_transform(val_X)\n",
    "print(score_measure(train_X_with_imputer, val_X_with_imputer, train_y, val_y))"
   ]
  },
  {
   "cell_type": "markdown",
   "metadata": {},
   "source": [
    "**Get error value from an extension to imputation**"
   ]
  },
  {
   "cell_type": "code",
   "execution_count": 13,
   "metadata": {},
   "outputs": [
    {
     "name": "stdout",
     "output_type": "stream",
     "text": [
      "183376.73496154475\n"
     ]
    }
   ],
   "source": [
    "train_X_extend = train_X.copy()\n",
    "val_X_extend = val_X.copy()\n",
    "\n",
    "col_with_missing = [col for col in train_X.columns if train_X[col].isnull().any()]\n",
    "for col in col_with_missing:\n",
    "    train_X_extend[col+'was_missing'] = train_X_extend[col].isnull()\n",
    "    val_X_extend[col+'was_missing'] = val_X_extend[col].isnull()\n",
    "\n",
    "my_imputer = Imputer()\n",
    "train_X_extend_imputation = my_imputer.fit_transform(train_X_extend)\n",
    "val_X_extend_imputation = my_imputer.fit_transform(val_X_extend)\n",
    "\n",
    "print(score_measure(train_X_extend_imputation, val_X_extend_imputation, train_y, val_y))"
   ]
  },
  {
   "cell_type": "code",
   "execution_count": null,
   "metadata": {},
   "outputs": [],
   "source": []
  }
 ],
 "metadata": {
  "kernelspec": {
   "display_name": "Python 3",
   "language": "python",
   "name": "python3"
  }
 },
 "nbformat": 4,
 "nbformat_minor": 2
}
